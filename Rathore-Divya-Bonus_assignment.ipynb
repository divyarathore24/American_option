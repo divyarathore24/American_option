{
 "cells": [
  {
   "cell_type": "code",
   "execution_count": 125,
   "metadata": {
    "collapsed": true
   },
   "outputs": [],
   "source": [
    "import math\n",
    "import numpy as np\n",
    "import matplotlib.pyplot as plt"
   ]
  },
  {
   "cell_type": "markdown",
   "metadata": {},
   "source": [
    "## American call and put options pricing by following the algorithm:##"
   ]
  },
  {
   "cell_type": "markdown",
   "metadata": {},
   "source": [
    "Step1:"
   ]
  },
  {
   "cell_type": "markdown",
   "metadata": {},
   "source": [
    "Create final spot values using the formula"
   ]
  },
  {
   "cell_type": "markdown",
   "metadata": {},
   "source": [
    "$$ So * e^{(r-d- \\frac{1}{2}\\sigma^2)T+ \\sigma \\sqrt{\\frac{T}{N}} i} $$\n",
    "where i belongs to {-N,..., N} \n"
   ]
  },
  {
   "cell_type": "markdown",
   "metadata": {},
   "source": [
    "Step2:"
   ]
  },
  {
   "cell_type": "markdown",
   "metadata": {},
   "source": [
    "Evaluate payoff and store the value (s_up, s_down)"
   ]
  },
  {
   "cell_type": "code",
   "execution_count": 126,
   "metadata": {
    "collapsed": true
   },
   "outputs": [],
   "source": [
    "def american_option(S0, sigma, r, d, K, option, N, T):\n",
    "    s_up=[] # for up spots\n",
    "    s_down=[] #for down spots\n",
    "    T=T/365\n",
    "    next_up=[]\n",
    "    next_down=[]\n",
    "    for i in range(1, N+1):\n",
    "        a= (r - d -(1/2)*math.pow(sigma,2))*T\n",
    "        b_up= sigma*math.sqrt(T/N)*i\n",
    "        b_down= sigma*math.sqrt(T/N)*(-i)\n",
    "        if (option.lower()=='call'):\n",
    "            #calculate payoff function for call \n",
    "            s_up.append(max((S0 * math.exp(a+b_up))-K,0))\n",
    "            s_down.append(max((S0 * math.exp(a+b_down))-K,0))\n",
    "        if (option.lower()=='put'):\n",
    "            #calculate payoff function for put\n",
    "            s_up.append(max(K-(S0 * math.exp(a+b_up)),0))\n",
    "            s_down.append(max(K-(S0 * math.exp(a+b_down)),0))\n",
    "    print('\\n final up spot values: ')\n",
    "    print(s_up)\n",
    "    print('\\n final down spot values: ')\n",
    "    print(s_down)\n",
    "    \n",
    "    \n",
    "    next_up=s_up\n",
    "    next_down=s_down\n",
    "    for t in range(N-1,0,-1): #going backwords from period N-1 to 1 stoping when we reach zero\n",
    "        #to calculate at previous time as we go backwords\n",
    "        next_up, next_down= calculate_Pspot(S0, sigma, r, d, K, option, N, T, t, next_up, next_down)\n",
    "        \n",
    "    return(next_up, next_down) #returning the last two values of period 1\n"
   ]
  },
  {
   "cell_type": "markdown",
   "metadata": {},
   "source": [
    "Step3:"
   ]
  },
  {
   "cell_type": "markdown",
   "metadata": {},
   "source": [
    "At previous time compute posible spot values using formula\n",
    "$$ So * e^{(r-d- \\frac{1}{2}\\sigma^2)(N-1)\\frac{T}{N}+ \\sigma \\sqrt{\\frac{T}{N}} i} $$\n",
    "where i belongs to {-(N-1),..., (N-1)} \n"
   ]
  },
  {
   "cell_type": "code",
   "execution_count": 143,
   "metadata": {},
   "outputs": [],
   "source": [
    "#to calculate at previous time\n",
    "def calculate_Pspot(S0, sigma, r, d, K, option, N, T, t, next_up, next_down):\n",
    "    previous_up=[]\n",
    "    previous_down=[]\n",
    "    E=math.exp(-r*(T/N)) #calculate e^-rt (discount)\n",
    "    for i in range(1, t+1):\n",
    "        a= (r - d -(1/2)*math.pow(sigma,2))*(N-1)*T/N\n",
    "        b_up= sigma*math.sqrt(T/N)*i\n",
    "        b_down= sigma*math.sqrt(T/N)*(-i)\n",
    "        if (option.lower()=='call'):\n",
    "            #calculate payoff function for each up spot\n",
    "            previous_up.append(max((S0 * math.exp(a+b_up))-K,0))\n",
    "            previous_down.append(max((S0 * math.exp(a+b_down))-K,0))\n",
    "        if (option.lower()=='put'):\n",
    "            #calculate payoff function for each down spot\n",
    "            previous_up.append(max(K-(S0 * math.exp(a+b_up)),0))\n",
    "            previous_down.append(max(K-(S0 * math.exp(a+b_down)),0))\n",
    "        \n",
    "    #to take max with the discounted payoff and two possible values of next time\n",
    "    next_up,next_down=compare(previous_up, previous_down, next_up, next_down,E)\n",
    "    \n",
    "    print('\\n %dth up spot values: '%t)\n",
    "    print(next_up)\n",
    "    print('\\n %dth down spot values: '%t)\n",
    "    print(next_down)\n",
    "    return(next_up,next_down)"
   ]
  },
  {
   "cell_type": "markdown",
   "metadata": {},
   "source": [
    "Step4:"
   ]
  },
  {
   "cell_type": "markdown",
   "metadata": {},
   "source": [
    "Take max with the discounted payoff of the  two possible values of next time"
   ]
  },
  {
   "cell_type": "code",
   "execution_count": 144,
   "metadata": {
    "collapsed": true
   },
   "outputs": [],
   "source": [
    "def compare(previous_up, previous_down, next_up, next_down,E):\n",
    "    for i in range(0, len(previous_up)):\n",
    "        previous_up[i]= max(previous_up[i], E*next_up[i], E*next_down[i])\n",
    "    for j in range(0, len(previous_down)):\n",
    "        previous_down[j]= max(previous_down[j], E*next_up[j+1], E*next_down[j+1])\n",
    "    \n",
    "    return(previous_up,previous_down)"
   ]
  },
  {
   "cell_type": "code",
   "execution_count": 145,
   "metadata": {},
   "outputs": [
    {
     "name": "stdout",
     "output_type": "stream",
     "text": [
      "\n",
      " final up spot values: \n",
      "[19.592914792072406, 29.50703820437974, 40.31802473252759, 52.10700746464718, 64.9624590459031, 78.98085563815101, 94.26740094349682, 110.93681572532807, 129.11419875192735, 148.93596562378158, 170.5508725301936, 194.12113261817115]\n",
      "\n",
      " final down spot values: \n",
      "[2.1638199878621833, 0, 0, 0, 0, 0, 0, 0, 0, 0, 0, 0]\n",
      "\n",
      " 11th up spot values: \n",
      "[19.54726058952842, 29.457253977562104, 40.263736866313224, 52.04780854550154, 64.89790480436824, 78.91046161474176, 94.19063885298311, 110.85310949211882, 129.0229201868024, 148.8364297095272, 170.44233228076166]\n",
      "\n",
      " 11th down spot values: \n",
      "[29.262167929228085, 39.98343724389378, 51.67458665823417, 64.42335460882215, 78.32541663007882, 93.485103369373, 110.01618355604863, 128.04271780031908, 147.6999896295234, 169.13552074888116, 192.51017814596298]\n",
      "\n",
      " 10th up spot values: \n",
      "[29.01932976083135, 39.65162639891484, 51.24575438555044, 63.888724041701614, 77.67541691852767, 92.70929785388614, 109.10319144372927, 126.98012875557124, 146.47427063834692, 167.7319145578149]\n",
      "\n",
      " 10th down spot values: \n",
      "[39.65162639891484, 51.24575438555044, 63.888724041701614, 77.67541691852767, 92.70929785388614, 109.10319144372927, 126.98012875557124, 146.47427063834692, 167.7319145578149, 190.91259251349177]\n",
      "\n",
      " 9th up spot values: \n",
      "[39.32256915503763, 50.82048086640472, 63.35853021720392, 77.03081136436751, 91.93993052134145, 108.19777598577308, 125.92635782635091, 145.2587235303852, 166.33995648377854]\n",
      "\n",
      " 9th down spot values: \n",
      "[50.82048086640472, 63.35853021720392, 77.03081136436751, 91.93993052134145, 108.19777598577308, 125.92635782635091, 145.2587235303852, 166.33995648377854, 189.3282647766688]\n",
      "\n",
      " 8th up spot values: \n",
      "[50.39873656774282, 62.83273631610041, 76.39155520306467, 91.17694794314276, 107.29987430574269, 124.88133183369783, 144.0532638921561, 164.95954986245755]\n",
      "\n",
      " 8th down spot values: \n",
      "[62.83273631610041, 76.39155520306467, 91.17694794314276, 107.29987430574269, 124.88133183369783, 144.0532638921561, 164.95954986245755, 187.7570849120978]\n",
      "\n",
      " 7th up spot values: \n",
      "[62.311305824714424, 75.75760404157329, 90.42029713408218, 106.40942404899394, 123.84497820594255, 142.85780801070032, 163.59059883172625]\n",
      "\n",
      " 7th down spot values: \n",
      "[75.75760404157329, 90.42029713408218, 106.40942404899394, 123.84497820594255, 142.85780801070032, 163.59059883172625, 186.19894380943458]\n",
      "\n",
      " 6th up spot values: \n",
      "[75.12891385525236, 89.66992554866054, 105.5263633783456, 122.81722497366665, 141.67227286776787, 162.23300832499072]\n",
      "\n",
      " 6th down spot values: \n",
      "[89.66992554866054, 105.5263633783456, 122.81722497366665, 141.67227286776787, 162.23300832499072, 184.6537332638097]\n",
      "\n",
      " 5th up spot values: \n",
      "[88.92578107743843, 104.65063096978507, 121.79800076470487, 140.49657613405296, 160.88668406458683]\n",
      "\n",
      " 5th down spot values: \n",
      "[104.65063096978507, 121.79800076470487, 140.49657613405296, 160.88668406458683, 183.12134596831427]\n",
      "\n",
      " 4th up spot values: \n",
      "[103.78216600820984, 120.78723479918862, 139.33063616347658, 159.5515325552332]\n",
      "\n",
      " 4th down spot values: \n",
      "[120.78723479918862, 139.33063616347658, 159.5515325552332, 181.60167550654808]\n",
      "\n",
      " 3th up spot values: \n",
      "[119.78485688463078, 138.17437198751665, 158.22746107753846]\n",
      "\n",
      " 3th down spot values: \n",
      "[138.17437198751665, 158.22746107753846, 180.09461634522944]\n",
      "\n",
      " 2th up spot values: \n",
      "[137.02770330958515, 156.91437768156234]\n",
      "\n",
      " 2th down spot values: \n",
      "[156.91437768156234, 178.6000638268665]\n",
      "\n",
      " 1th up spot values: \n",
      "[155.61219118043016]\n",
      "\n",
      " 1th down spot values: \n",
      "[177.11791416248926]\n"
     ]
    },
    {
     "data": {
      "text/plain": [
       "([155.61219118043016], [177.11791416248926])"
      ]
     },
     "execution_count": 145,
     "metadata": {},
     "output_type": "execute_result"
    }
   ],
   "source": [
    "american_option(100, 0.3, 0.1, 0.05, 90,   \"call\", 12, 365)"
   ]
  },
  {
   "cell_type": "code",
   "execution_count": 146,
   "metadata": {
    "scrolled": false
   },
   "outputs": [
    {
     "name": "stdout",
     "output_type": "stream",
     "text": [
      "\n",
      " final up spot values: \n",
      "[0, 0, 0, 0, 0, 0, 0, 0, 0, 0, 0, 0]\n",
      "\n",
      " final down spot values: \n",
      "[0, 5.481951334381634, 12.493441014222341, 18.9232680988343, 24.819686438702533, 30.22694681774781, 35.18562904168347, 39.73294647682369, 43.90302532481211, 47.72716072914071, 51.234051635458655, 54.45001616822466]\n",
      "\n",
      " 11th up spot values: \n",
      "[0, 5.4364582244896775, 12.389761603311845, 18.76622943456598, 24.613715124152883, 29.97610223168706, 34.89363380294947, 39.40321438141733, 43.53868696537348, 47.33108698907223, 50.80887523401127]\n",
      "\n",
      " 11th down spot values: \n",
      "[5.4364582244896775, 12.389761603311845, 18.76622943456598, 24.613715124152883, 29.97610223168706, 34.89363380294947, 39.40321438141733, 43.53868696537348, 47.33108698907223, 50.80887523401127, 53.99815141823609]\n",
      "\n",
      " 10th up spot values: \n",
      "[5.391342648603661, 12.28694259749187, 18.610493988216803, 24.409453105267467, 29.727339331439154, 34.60406174725257, 39.07621863617831, 43.17737214336026, 46.938300149066016, 50.38722724709635]\n",
      "\n",
      " 10th down spot values: \n",
      "[12.28694259749187, 18.610493988216803, 24.409453105267467, 29.727339331439154, 34.60406174725257, 39.07621863617831, 43.17737214336026, 46.938300149066016, 50.38722724709635, 53.55003656157449]\n",
      "\n",
      " 9th up spot values: \n",
      "[12.184976856512355, 18.456050944762634, 24.20688619710177, 29.48064084170271, 34.31689276530586, 38.751936532937364, 42.819055767320165, 46.54877293210031, 49.96907839343424]\n",
      "\n",
      " 9th down spot values: \n",
      "[18.456050944762634, 24.20688619710177, 29.48064084170271, 34.31689276530586, 38.751936532937364, 42.819055767320165, 46.54877293210031, 49.96907839343424, 53.10564047897249]\n",
      "\n",
      " 8th up spot values: \n",
      "[18.302889578930053, 24.00600033242799, 29.235989630539017, 34.03210691470351, 38.430345551973666, 42.46371295402753, 46.1624782875174, 49.55439963474206]\n",
      "\n",
      " 8th down spot values: \n",
      "[24.00600033242799, 29.235989630539017, 34.03210691470351, 38.430345551973666, 42.46371295402753, 46.1624782875174, 49.55439963474206, 52.664932309412436]\n",
      "\n",
      " 7th up spot values: \n",
      "[23.806781560758125, 28.993368708182317, 33.7496844185359, 38.111423360450964, 42.11131902675528, 45.77938938914505, 49.143162173717144]\n",
      "\n",
      " 7th down spot values: \n",
      "[28.993368708182317, 33.7496844185359, 38.111423360450964, 42.11131902675528, 45.77938938914505, 49.143162173717144, 52.227881447983215]\n",
      "\n",
      " 6th up spot values: \n",
      "[28.752761225859942, 33.469605664016186, 37.79514781086667, 41.76184951356131, 45.39947963343359, 48.73533745203721]\n",
      "\n",
      " 6th down spot values: \n",
      "[33.469605664016186, 37.79514781086667, 41.76184951356131, 45.39947963343359, 48.73533745203721, 51.79445754375492]\n",
      "\n",
      " 5th up spot values: \n",
      "[33.1918512011183, 37.48149693951386, 41.415280145588966, 45.02272263760842, 48.33089714837712]\n",
      "\n",
      " 5th down spot values: \n",
      "[37.48149693951386, 41.415280145588966, 45.02272263760842, 48.33089714837712, 51.364630497671136]\n",
      "\n",
      " 4th up spot values: \n",
      "[37.170448964955966, 41.07158685538175, 44.64909223783785, 47.92981317644215]\n",
      "\n",
      " 4th down spot values: \n",
      "[41.07158685538175, 44.64909223783785, 47.92981317644215, 50.9383704604587]\n",
      "\n",
      " 3th up spot values: \n",
      "[40.73074577521195, 44.278562487416195, 47.53205768301751]\n",
      "\n",
      " 3th down spot values: \n",
      "[44.278562487416195, 47.53205768301751, 50.515647830554826]\n",
      "\n",
      " 2th up spot values: \n",
      "[43.91110765496188, 47.13760304603408]\n",
      "\n",
      " 2th down spot values: \n",
      "[47.13760304603408, 50.096433252051455]\n",
      "\n",
      " 1th up spot values: \n",
      "[46.74642187265022]\n",
      "\n",
      " 1th down spot values: \n",
      "[49.680697612656594]\n"
     ]
    },
    {
     "data": {
      "text/plain": [
       "([46.74642187265022], [49.680697612656594])"
      ]
     },
     "execution_count": 146,
     "metadata": {},
     "output_type": "execute_result"
    }
   ],
   "source": [
    "american_option(100, 0.3, 0.1, 0.05, 90,   \"put\", 12, 365)"
   ]
  },
  {
   "cell_type": "code",
   "execution_count": null,
   "metadata": {
    "collapsed": true
   },
   "outputs": [],
   "source": []
  },
  {
   "cell_type": "code",
   "execution_count": null,
   "metadata": {
    "collapsed": true
   },
   "outputs": [],
   "source": []
  }
 ],
 "metadata": {
  "kernelspec": {
   "display_name": "Python 3",
   "language": "python",
   "name": "python3"
  },
  "language_info": {
   "codemirror_mode": {
    "name": "ipython",
    "version": 3
   },
   "file_extension": ".py",
   "mimetype": "text/x-python",
   "name": "python",
   "nbconvert_exporter": "python",
   "pygments_lexer": "ipython3",
   "version": "3.6.3"
  }
 },
 "nbformat": 4,
 "nbformat_minor": 2
}
